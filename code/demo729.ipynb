{
 "cells": [
  {
   "cell_type": "code",
   "execution_count": 1,
   "metadata": {},
   "outputs": [],
   "source": [
    "using Distributions\n",
    "using LinearAlgebra\n",
    "using Random\n",
    "using JuMP\n",
    "using GLPK\n",
    "using Gurobi\n",
    "# using Parameters\n",
    "using DecisionTree\n",
    "# using ScikitLearn.CrossValidation: cross_val_score\n",
    "using LightGraphs\n",
    "using SimpleWeightedGraphs\n",
    "# using LazySets \n",
    "# using DelimitedFiles"
   ]
  },
  {
   "cell_type": "code",
   "execution_count": 2,
   "metadata": {
    "scrolled": true
   },
   "outputs": [],
   "source": [
    "d = 40;\n",
    "p = 5;"
   ]
  },
  {
   "cell_type": "markdown",
   "metadata": {},
   "source": [
    "## functions"
   ]
  },
  {
   "cell_type": "code",
   "execution_count": 3,
   "metadata": {},
   "outputs": [
    {
     "data": {
      "text/plain": [
       "generate_B (generic function with 1 method)"
      ]
     },
     "execution_count": 3,
     "metadata": {},
     "output_type": "execute_result"
    }
   ],
   "source": [
    "function generate_B(d,p)\n",
    "    B = zeros((d,p));\n",
    "    N = Normal();\n",
    "    ran = rand(N,d*p);\n",
    "    for i in 1:(d*p)\n",
    "        if ran[i] >= 0\n",
    "            B[i] = 1\n",
    "        else\n",
    "            B[i] = 0\n",
    "        end\n",
    "    end\n",
    "    return B\n",
    "end"
   ]
  },
  {
   "cell_type": "code",
   "execution_count": 4,
   "metadata": {},
   "outputs": [
    {
     "data": {
      "text/plain": [
       "generate_data (generic function with 1 method)"
      ]
     },
     "execution_count": 4,
     "metadata": {},
     "output_type": "execute_result"
    }
   ],
   "source": [
    "function generate_data(B, n, deg, noiseWidth)\n",
    "    I_p = Matrix{Float64}(1I, p, p);\n",
    "    mu = [0, 0, 0, 0, 0];\n",
    "    MV = MvNormal(mu, I_p);\n",
    "    X = rand(MV,n);\n",
    "    X = reshape(X,(n,p));\n",
    "    epsilon = rand(Uniform(1-noiseWidth,1+noiseWidth),(n,d))\n",
    "    C = ((X*B'/sqrt(p).+3).^deg.+1).*epsilon\n",
    "    return X, C\n",
    "end"
   ]
  },
  {
   "cell_type": "code",
   "execution_count": 5,
   "metadata": {},
   "outputs": [
    {
     "data": {
      "text/plain": [
       "dijkstra (generic function with 1 method)"
      ]
     },
     "execution_count": 5,
     "metadata": {},
     "output_type": "execute_result"
    }
   ],
   "source": [
    "function dijkstra(C)\n",
    "    grid = 5\n",
    "    g = SimpleWeightedDiGraph(grid^2)\n",
    "    k = 1\n",
    "    dict = Dict()\n",
    "    for i in 1:grid\n",
    "        for j in 1:grid\n",
    "            index = (i-1)*grid+j\n",
    "            if i != 1\n",
    "                add_edge!(g, index-grid, index, C[k])\n",
    "                dict[(index-grid, index)] = k\n",
    "                k = k+1\n",
    "            end\n",
    "            if j != 1\n",
    "                add_edge!(g, index-1, index, C[k])\n",
    "                dict[(index-1, index)] = k\n",
    "                k = k+1\n",
    "            end\n",
    "        end\n",
    "    end\n",
    "    result = dijkstra_shortest_paths(g, 1)\n",
    "    node_path = enumerate_paths(result, grid^2)\n",
    "    w = zeros(40)\n",
    "    for i in 1:length(node_path)-1\n",
    "        src = node_path[i]\n",
    "        dst = node_path[i+1]\n",
    "        w[dict[src,dst]] =1\n",
    "    end\n",
    "    return w, result.dists[grid^2]\n",
    "end"
   ]
  },
  {
   "cell_type": "code",
   "execution_count": 6,
   "metadata": {},
   "outputs": [
    {
     "data": {
      "text/plain": [
       "Normalizedloss (generic function with 1 method)"
      ]
     },
     "execution_count": 6,
     "metadata": {},
     "output_type": "execute_result"
    }
   ],
   "source": [
    "function Normalizedloss(C_hat, C)\n",
    "    n = size(C)[1]\n",
    "    num = 0\n",
    "    den = 0\n",
    "    for i in 1:n\n",
    "        w_hat, z_hat = dijkstra(C_hat[i,:])\n",
    "        w, z = dijkstra(C[i,:])\n",
    "        num += C[i,:]'*w_hat-z\n",
    "        den += z;\n",
    "    end\n",
    "    return num/den\n",
    "end"
   ]
  },
  {
   "cell_type": "code",
   "execution_count": 7,
   "metadata": {},
   "outputs": [
    {
     "data": {
      "text/plain": [
       "outerProduct (generic function with 1 method)"
      ]
     },
     "execution_count": 7,
     "metadata": {},
     "output_type": "execute_result"
    }
   ],
   "source": [
    "function outerProduct(A, B)\n",
    "    m = size(A)[1];\n",
    "    n = size(B)[1];\n",
    "    \n",
    "    res=zeros(m,n)\n",
    "    for i in 1:m\n",
    "        for j in 1:n\n",
    "            res[i,j] = A[i]*B[j]\n",
    "        end\n",
    "    end\n",
    "    return res\n",
    "end   "
   ]
  },
  {
   "cell_type": "code",
   "execution_count": 8,
   "metadata": {},
   "outputs": [
    {
     "data": {
      "text/plain": [
       "find_lambda (generic function with 1 method)"
      ]
     },
     "execution_count": 8,
     "metadata": {},
     "output_type": "execute_result"
    }
   ],
   "source": [
    "function find_lambda(X, C, X_val, C_val, loss_type)\n",
    "    \n",
    "#     B = generate_B()\n",
    "#     X_train, C_train = generate_data(B, n, deg, noiseWidth)\n",
    "#     X_val, C_val = generate_data(B, Int64(n/4), deg, noiseWidth)\n",
    "    \n",
    "    lambdas = [10.0^(i) for i in -6:2]\n",
    "    push!(lambdas, 0)\n",
    "    loss = zeros(10)\n",
    "    for i in 1:10\n",
    "        lambda = lambdas[i]\n",
    "        accuracy = optimiztion(X, C, X_val, C_val, lambda, loss_type)\n",
    "#         C_hat = X_val*b'\n",
    "        loss[i] = accuracy\n",
    "    end\n",
    "    println(loss)\n",
    "    return lambdas[argmin(loss)]\n",
    "end"
   ]
  },
  {
   "cell_type": "markdown",
   "metadata": {},
   "source": [
    "## optimization"
   ]
  },
  {
   "cell_type": "code",
   "execution_count": 9,
   "metadata": {},
   "outputs": [
    {
     "data": {
      "text/plain": [
       "RandomForest (generic function with 1 method)"
      ]
     },
     "execution_count": 9,
     "metadata": {},
     "output_type": "execute_result"
    }
   ],
   "source": [
    "function RandomForest(X, C, X_test, C_test,)\n",
    "    \n",
    "    C_hat=zeros((10000,d))\n",
    "    \n",
    "    for i in 1:d\n",
    "        model = DecisionTreeRegressor();\n",
    "#         model = RandomForestRegressor(n_subfeatures=2, n_trees=100)\n",
    "        fit!(model, X[:,rand(1:5,2)], C[:,i])\n",
    "        c = predict(model, X_test[:,rand(1:5,2)]);\n",
    "        C_hat[:,i]=c\n",
    "    end\n",
    "    \n",
    "    accuracy=Normalizedloss(C_hat, C_test);\n",
    "    return accuracy\n",
    "end"
   ]
  },
  {
   "cell_type": "code",
   "execution_count": 10,
   "metadata": {},
   "outputs": [
    {
     "data": {
      "text/plain": [
       "optimiztion (generic function with 1 method)"
      ]
     },
     "execution_count": 10,
     "metadata": {},
     "output_type": "execute_result"
    }
   ],
   "source": [
    "function optimiztion(X, C, X_test, C_test, lambda, loss_type)\n",
    "    n = size(C)[1]\n",
    "    model = Model(Gurobi.Optimizer)\n",
    "    @variable(model, B_var[1:d, 1:p])\n",
    "    @variable(model, reg[1:d, 1:p])\n",
    "    @constraint(model, B_var .<= reg)\n",
    "    @constraint(model, -B_var .<= reg)\n",
    "    \n",
    "    if loss_type == \"ls\"\n",
    "        @objective(model, Min, sum(dot((B_var*X[i,:]-C[i,:]),(B_var*X[i,:]-C[i,:])) for i in 1:n)/(2*n)\n",
    "            + lambda*sum(reg[i] for i in 1:d*p))\n",
    "    elseif loss_type == \"absolute\"\n",
    "        @variable(model, abs[1:n, 1:d])\n",
    "        @constraint(model, X*B_var'-C .<= abs)\n",
    "        @constraint(model, C-X*B_var'.<= abs)\n",
    "        @objective(model, Min, sum(abs[i] for i in 1:n*d)/n + lambda*sum(reg[i] for i in 1:d*p))\n",
    "    elseif loss_type == \"spo\"\n",
    "        m = 90\n",
    "        A = zeros(m, d)\n",
    "        b = zeros(m)\n",
    "        k = 0\n",
    "        for i in 0:4\n",
    "            for j in 0:4\n",
    "                k = k+1\n",
    "                if i != 0\n",
    "                    A[2k-1, 4*j+i] = 1\n",
    "                    A[2k, 4*j+i] = -1\n",
    "                end\n",
    "                if j != 0\n",
    "                    A[2k-1, 20+4*i+j] = 1\n",
    "                    A[2k, 20+4*i+j] = -1\n",
    "                end\n",
    "                if i != 4\n",
    "                    A[2k-1, 4*j+i+1] = -1\n",
    "                    A[2k, 4*j+i+1] = 1\n",
    "                end\n",
    "                if j != 4\n",
    "                    A[2k-1, 20+4*i+j+1] = -1\n",
    "                    A[2k, 20+4*i+j+1] = 1\n",
    "                end\n",
    "                if (i==0) && (j==0)\n",
    "                    b[2k-1] = -1\n",
    "                    b[2k] = 1\n",
    "                end\n",
    "                if (i==4) && (j==4)\n",
    "                    b[2k-1] = 1\n",
    "                    b[2k] = -1\n",
    "                end\n",
    "            end\n",
    "        end\n",
    "        \n",
    "        for i in 1:d\n",
    "            A[i+50, i] = 1\n",
    "        end\n",
    "        \n",
    "        @variable(model, p_var[1:n, 1:m])\n",
    "        @constraint(model, con[i = 1:n], A'*p_var[i,:] .== 2*B_var*X[i,:]-C[i,:])\n",
    "        @objective(model, Min, \n",
    "#             sum(-b'*p_var[i,:] .+ dijkstra(C[i,:])[1]*X[i,:]'.*B_var.*2\n",
    "#                  .- dijkstra(C[i,:])[2] for i in 1:n)/n\n",
    "#             + lambda*sum(reg[i] for i in 1:d*p))\n",
    "            sum(-b'*p_var[i,:] .+ 2*(B_var*X[i,:])'*dijkstra(C[i,:])[1]\n",
    "                 .- dijkstra(C[i,:])[2] for i in 1:n)/n\n",
    "            + lambda*sum(reg[i] for i in 1:d*p))\n",
    "    end\n",
    "    \n",
    "    optimize!(model)\n",
    "    \n",
    "    C_hat = X_test * value.(B_var)';\n",
    "    \n",
    "    accuracy = Normalizedloss(C_hat, C_test);\n",
    "    return accuracy\n",
    "end "
   ]
  },
  {
   "cell_type": "markdown",
   "metadata": {},
   "source": [
    "## results"
   ]
  },
  {
   "cell_type": "code",
   "execution_count": 12,
   "metadata": {},
   "outputs": [],
   "source": [
    "n = 100;\n",
    "deg = 8;\n",
    "noiseWidth = 0.5;"
   ]
  },
  {
   "cell_type": "code",
   "execution_count": 15,
   "metadata": {},
   "outputs": [],
   "source": [
    "loss=[]\n",
    "for t in 1:50\n",
    "    B = generate_B(d,p);\n",
    "    X, C = generate_data(B, n, deg, noiseWidth);\n",
    "    X_val, C_val = generate_data(B, Int64(n/4), deg, noiseWidth);\n",
    "    X_test, C_test = generate_data(B, 10000, deg, noiseWidth);\n",
    "#     lambda = find_lambda(X, C, X_val, C_val, \"spo\");\n",
    "#     res = optimiztion(X, C, X_test, C_test, lambda, \"spo\");\n",
    "    res = RandomForest(X, C, X_test, C_test,)\n",
    "    append!(loss,res)\n",
    "    break\n",
    "end"
   ]
  },
  {
   "cell_type": "code",
   "execution_count": 16,
   "metadata": {},
   "outputs": [
    {
     "data": {
      "text/plain": [
       "1-element Array{Any,1}:\n",
       " 1.679030135575607"
      ]
     },
     "execution_count": 16,
     "metadata": {},
     "output_type": "execute_result"
    }
   ],
   "source": [
    "loss"
   ]
  },
  {
   "cell_type": "code",
   "execution_count": null,
   "metadata": {},
   "outputs": [],
   "source": [
    "writedlm( \"8_ls_100\",  loss, ',')"
   ]
  },
  {
   "cell_type": "code",
   "execution_count": null,
   "metadata": {},
   "outputs": [],
   "source": []
  }
 ],
 "metadata": {
  "kernelspec": {
   "display_name": "Julia 1.4.2",
   "language": "julia",
   "name": "julia-1.4"
  },
  "language_info": {
   "file_extension": ".jl",
   "mimetype": "application/julia",
   "name": "julia",
   "version": "1.4.2"
  },
  "toc": {
   "base_numbering": 1,
   "nav_menu": {},
   "number_sections": true,
   "sideBar": true,
   "skip_h1_title": false,
   "title_cell": "Table of Contents",
   "title_sidebar": "Contents",
   "toc_cell": false,
   "toc_position": {},
   "toc_section_display": true,
   "toc_window_display": false
  }
 },
 "nbformat": 4,
 "nbformat_minor": 4
}
